{
 "cells": [
  {
   "cell_type": "markdown",
   "metadata": {},
   "source": [
    "# Question - 1 Write a function so that the columns of the output matrix are powers of the input vector. The order of the powers is determined by the increasing boolean argument. Specifically, when increasing is False, the i-th output column is the input vector raised element-wise to the power of N - i - 1."
   ]
  },
  {
   "cell_type": "code",
   "execution_count": 1,
   "metadata": {},
   "outputs": [],
   "source": [
    "import numpy as np"
   ]
  },
  {
   "cell_type": "code",
   "execution_count": 44,
   "metadata": {},
   "outputs": [],
   "source": [
    "def Alex_Theo_Vander(input_arr,powers):\n",
    "    a = input_arr\n",
    "    n = powers\n",
    "    Arr = np.array([a[i]**j for i in range(len(a)) for j in (range(n)) ]).reshape(len(a),n)\n",
    "    Rev_Arr = np.flip(Arr,axis=1)\n",
    "    print('First Arrangement of the Matrix')\n",
    "    print(Arr)\n",
    "    print('---------------------------------------------------------------------------------')\n",
    "    print('Second Arrangement of the Matrix - In reverse order')\n",
    "    print(Rev_Arr)"
   ]
  },
  {
   "cell_type": "code",
   "execution_count": 45,
   "metadata": {},
   "outputs": [
    {
     "name": "stdout",
     "output_type": "stream",
     "text": [
      "First Arrangement of the Matrix\n",
      "[[   1    3    9   27   81]\n",
      " [   1    4   16   64  256]\n",
      " [   1    5   25  125  625]\n",
      " [   1    6   36  216 1296]]\n",
      "---------------------------------------------------------------------------------\n",
      "Second Arrangement of the Matrix - In reverse order\n",
      "[[  81   27    9    3    1]\n",
      " [ 256   64   16    4    1]\n",
      " [ 625  125   25    5    1]\n",
      " [1296  216   36    6    1]]\n"
     ]
    }
   ],
   "source": [
    "input_arr = np.array([3,4,5,6])\n",
    "powers = 5\n",
    "Alex_Theo_Vander(input_arr,powers)"
   ]
  },
  {
   "cell_type": "markdown",
   "metadata": {},
   "source": [
    "# Question - 2 Given a sequence of n values x1, x2, ..., xn and a window size k>0,calculate the k-th moving average of the given sequence "
   ]
  },
  {
   "cell_type": "code",
   "execution_count": 90,
   "metadata": {},
   "outputs": [],
   "source": [
    "def moving_avg(sequence,window_len):\n",
    "    arr = np.array(sequence)\n",
    "    n = window_len\n",
    "    a =[]\n",
    "    for i in range(len(arr) - n + 1):\n",
    "        b=[]\n",
    "        for j in range(n):\n",
    "            b.append(arr[i+j])\n",
    "            if len(b) == n :\n",
    "                a.append(sum(b)/len(b))\n",
    "    return np.array(a)\n",
    "        \n",
    "        "
   ]
  },
  {
   "cell_type": "code",
   "execution_count": 91,
   "metadata": {},
   "outputs": [
    {
     "data": {
      "text/plain": [
       "array([  5.        ,   4.66666667,   5.66666667,   6.66666667,\n",
       "         9.66666667,  28.66666667,  49.33333333,  72.66666667,\n",
       "        84.        ,  93.33333333, 116.33333333])"
      ]
     },
     "execution_count": 91,
     "metadata": {},
     "output_type": "execute_result"
    }
   ],
   "source": [
    "sequence = np.array([3, 5, 7, 2, 8, 10, 11, 65, 72, 81, 99, 100, 150])\n",
    "window_len = 3\n",
    "moving_avg(sequence,window_len)"
   ]
  },
  {
   "cell_type": "code",
   "execution_count": null,
   "metadata": {},
   "outputs": [],
   "source": []
  }
 ],
 "metadata": {
  "kernelspec": {
   "display_name": "Python 3",
   "language": "python",
   "name": "python3"
  },
  "language_info": {
   "codemirror_mode": {
    "name": "ipython",
    "version": 3
   },
   "file_extension": ".py",
   "mimetype": "text/x-python",
   "name": "python",
   "nbconvert_exporter": "python",
   "pygments_lexer": "ipython3",
   "version": "3.7.3"
  }
 },
 "nbformat": 4,
 "nbformat_minor": 2
}
