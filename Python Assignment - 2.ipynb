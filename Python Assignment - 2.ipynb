{
 "cells": [
  {
   "cell_type": "markdown",
   "metadata": {},
   "source": [
    "# Question - 1 "
   ]
  },
  {
   "cell_type": "code",
   "execution_count": 2,
   "metadata": {},
   "outputs": [
    {
     "name": "stdout",
     "output_type": "stream",
     "text": [
      "Type The Number For Generating The Sequence\n",
      "5\n",
      "\n",
      "*\n",
      "**\n",
      "***\n",
      "****\n",
      "*****\n",
      "****\n",
      "***\n",
      "**\n",
      "*\n"
     ]
    }
   ],
   "source": [
    "print('Type The Number For Generating The Sequence')\n",
    "N1 = input()\n",
    "N = int(N1)\n",
    "for i in range(2*N):\n",
    "        if(i<=N):\n",
    "            print(\"*\" * i)\n",
    "        else:\n",
    "            print(\"*\" * (2*N-i))"
   ]
  },
  {
   "cell_type": "code",
   "execution_count": 24,
   "metadata": {},
   "outputs": [
    {
     "name": "stdout",
     "output_type": "stream",
     "text": [
      "Type The Number For Generating The Sequence\n",
      "5\n",
      "\n",
      "*\n",
      "**\n",
      "***\n",
      "****\n",
      "*****\n",
      "****\n",
      "***\n",
      "**\n",
      "*\n"
     ]
    }
   ],
   "source": [
    "# Alternate Solution (Nested Loops)\n",
    "print('Type The Number For Generating The Sequence')\n",
    "N1 = input()\n",
    "N = int(N1)\n",
    "for i in range(0,2*N):\n",
    "    if(i<=N):\n",
    "        for j in range (0,i):\n",
    "            print('*',end='')\n",
    "        print('\\r')\n",
    "    else:\n",
    "        for j in range(2*N-i,0,-1):\n",
    "            print('*',end='')\n",
    "        print('\\r')\n",
    "    \n",
    "        \n"
   ]
  },
  {
   "cell_type": "markdown",
   "metadata": {},
   "source": [
    "# Question - 2"
   ]
  },
  {
   "cell_type": "code",
   "execution_count": 26,
   "metadata": {},
   "outputs": [
    {
     "name": "stdout",
     "output_type": "stream",
     "text": [
      "Type the word to be printed in Reverse\n",
      "INeuron\n",
      "The reverse of the word is\n",
      "norueNI\n"
     ]
    }
   ],
   "source": [
    "print('Type the word to be printed in Reverse')\n",
    "Word = input()\n",
    "print('The reverse of the word is')\n",
    "Rev_Word = Word[::-1]\n",
    "print(Rev_Word)"
   ]
  },
  {
   "cell_type": "code",
   "execution_count": null,
   "metadata": {},
   "outputs": [],
   "source": []
  }
 ],
 "metadata": {
  "kernelspec": {
   "display_name": "Python 3",
   "language": "python",
   "name": "python3"
  },
  "language_info": {
   "codemirror_mode": {
    "name": "ipython",
    "version": 3
   },
   "file_extension": ".py",
   "mimetype": "text/x-python",
   "name": "python",
   "nbconvert_exporter": "python",
   "pygments_lexer": "ipython3",
   "version": "3.7.3"
  }
 },
 "nbformat": 4,
 "nbformat_minor": 2
}
